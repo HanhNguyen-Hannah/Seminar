{
 "cells": [
  {
   "cell_type": "markdown",
   "id": "2ad9a4b7-edd5-4d36-8839-29cdba875436",
   "metadata": {},
   "source": [
    "### Bonus Excercise - Efficiently Inefficient Financial Markets - Summer term 2025\n",
    " - Student name: Hanh Nguyen Nguyen\n",
    " - Student ID: 3167744"
   ]
  },
  {
   "cell_type": "markdown",
   "id": "ea4780a8-3c2c-49ea-a7b2-b3b011f3652e",
   "metadata": {},
   "source": [
    "**Loading package**"
   ]
  },
  {
   "cell_type": "code",
   "execution_count": 3,
   "id": "24be72b2-4d48-49ed-9fdf-4bd2bb9d1fa2",
   "metadata": {},
   "outputs": [],
   "source": [
    "import pandas as pd\n",
    "import numpy as np"
   ]
  },
  {
   "cell_type": "markdown",
   "id": "735f3f06-dbd9-4de3-b7a9-67dadf3505f7",
   "metadata": {},
   "source": [
    "**Loading data**\n",
    "\n",
    "All the files are in the current working directory\n",
    "\n",
    "The `factor` data frame is retrieved from webpage of Kenneth R. French, section \"Developed Markets Factors and Returns\", file \"Fama/French Developed 5 Factors [Daily]\""
   ]
  },
  {
   "cell_type": "code",
   "execution_count": 5,
   "id": "bde90252-6362-4a37-a339-f0070dac2019",
   "metadata": {
    "scrolled": true
   },
   "outputs": [
    {
     "data": {
      "text/html": [
       "<div>\n",
       "<style scoped>\n",
       "    .dataframe tbody tr th:only-of-type {\n",
       "        vertical-align: middle;\n",
       "    }\n",
       "\n",
       "    .dataframe tbody tr th {\n",
       "        vertical-align: top;\n",
       "    }\n",
       "\n",
       "    .dataframe thead th {\n",
       "        text-align: right;\n",
       "    }\n",
       "</style>\n",
       "<table border=\"1\" class=\"dataframe\">\n",
       "  <thead>\n",
       "    <tr style=\"text-align: right;\">\n",
       "      <th></th>\n",
       "      <th>Mkt-RF</th>\n",
       "      <th>SMB</th>\n",
       "      <th>HML</th>\n",
       "      <th>RMW</th>\n",
       "      <th>CMA</th>\n",
       "      <th>RF</th>\n",
       "    </tr>\n",
       "    <tr>\n",
       "      <th>Date</th>\n",
       "      <th></th>\n",
       "      <th></th>\n",
       "      <th></th>\n",
       "      <th></th>\n",
       "      <th></th>\n",
       "      <th></th>\n",
       "    </tr>\n",
       "  </thead>\n",
       "  <tbody>\n",
       "    <tr>\n",
       "      <th>2000-01-03</th>\n",
       "      <td>0.0021</td>\n",
       "      <td>0.0067</td>\n",
       "      <td>-0.0077</td>\n",
       "      <td>-0.0031</td>\n",
       "      <td>-0.0079</td>\n",
       "      <td>0.0002</td>\n",
       "    </tr>\n",
       "    <tr>\n",
       "      <th>2000-01-04</th>\n",
       "      <td>-0.0318</td>\n",
       "      <td>0.0104</td>\n",
       "      <td>0.0146</td>\n",
       "      <td>-0.0006</td>\n",
       "      <td>0.0063</td>\n",
       "      <td>0.0002</td>\n",
       "    </tr>\n",
       "    <tr>\n",
       "      <th>2000-01-05</th>\n",
       "      <td>-0.0151</td>\n",
       "      <td>0.0035</td>\n",
       "      <td>0.0137</td>\n",
       "      <td>-0.0031</td>\n",
       "      <td>0.0163</td>\n",
       "      <td>0.0002</td>\n",
       "    </tr>\n",
       "    <tr>\n",
       "      <th>2000-01-06</th>\n",
       "      <td>-0.0102</td>\n",
       "      <td>0.0039</td>\n",
       "      <td>0.0102</td>\n",
       "      <td>-0.0016</td>\n",
       "      <td>0.0101</td>\n",
       "      <td>0.0002</td>\n",
       "    </tr>\n",
       "    <tr>\n",
       "      <th>2000-01-07</th>\n",
       "      <td>0.0208</td>\n",
       "      <td>-0.0073</td>\n",
       "      <td>-0.0098</td>\n",
       "      <td>-0.0023</td>\n",
       "      <td>-0.0019</td>\n",
       "      <td>0.0002</td>\n",
       "    </tr>\n",
       "    <tr>\n",
       "      <th>2000-01-10</th>\n",
       "      <td>0.0125</td>\n",
       "      <td>0.0020</td>\n",
       "      <td>-0.0139</td>\n",
       "      <td>-0.0050</td>\n",
       "      <td>-0.0049</td>\n",
       "      <td>0.0002</td>\n",
       "    </tr>\n",
       "    <tr>\n",
       "      <th>2000-01-11</th>\n",
       "      <td>-0.0015</td>\n",
       "      <td>0.0013</td>\n",
       "      <td>-0.0018</td>\n",
       "      <td>0.0079</td>\n",
       "      <td>-0.0041</td>\n",
       "      <td>0.0002</td>\n",
       "    </tr>\n",
       "    <tr>\n",
       "      <th>2000-01-12</th>\n",
       "      <td>-0.0056</td>\n",
       "      <td>0.0019</td>\n",
       "      <td>0.0014</td>\n",
       "      <td>0.0028</td>\n",
       "      <td>0.0064</td>\n",
       "      <td>0.0002</td>\n",
       "    </tr>\n",
       "    <tr>\n",
       "      <th>2000-01-13</th>\n",
       "      <td>0.0084</td>\n",
       "      <td>0.0023</td>\n",
       "      <td>-0.0053</td>\n",
       "      <td>-0.0059</td>\n",
       "      <td>-0.0068</td>\n",
       "      <td>0.0002</td>\n",
       "    </tr>\n",
       "    <tr>\n",
       "      <th>2000-01-14</th>\n",
       "      <td>0.0072</td>\n",
       "      <td>-0.0008</td>\n",
       "      <td>-0.0073</td>\n",
       "      <td>-0.0009</td>\n",
       "      <td>-0.0014</td>\n",
       "      <td>0.0002</td>\n",
       "    </tr>\n",
       "  </tbody>\n",
       "</table>\n",
       "</div>"
      ],
      "text/plain": [
       "            Mkt-RF     SMB     HML     RMW     CMA      RF\n",
       "Date                                                      \n",
       "2000-01-03  0.0021  0.0067 -0.0077 -0.0031 -0.0079  0.0002\n",
       "2000-01-04 -0.0318  0.0104  0.0146 -0.0006  0.0063  0.0002\n",
       "2000-01-05 -0.0151  0.0035  0.0137 -0.0031  0.0163  0.0002\n",
       "2000-01-06 -0.0102  0.0039  0.0102 -0.0016  0.0101  0.0002\n",
       "2000-01-07  0.0208 -0.0073 -0.0098 -0.0023 -0.0019  0.0002\n",
       "2000-01-10  0.0125  0.0020 -0.0139 -0.0050 -0.0049  0.0002\n",
       "2000-01-11 -0.0015  0.0013 -0.0018  0.0079 -0.0041  0.0002\n",
       "2000-01-12 -0.0056  0.0019  0.0014  0.0028  0.0064  0.0002\n",
       "2000-01-13  0.0084  0.0023 -0.0053 -0.0059 -0.0068  0.0002\n",
       "2000-01-14  0.0072 -0.0008 -0.0073 -0.0009 -0.0014  0.0002"
      ]
     },
     "execution_count": 5,
     "metadata": {},
     "output_type": "execute_result"
    }
   ],
   "source": [
    "factor = pd.read_csv('Developed_5_Factors_Daily.csv', header=2)\n",
    "\n",
    "#Format the Date col\n",
    "factor.rename(columns={'Unnamed: 0':'Date'},inplace=True)\n",
    "factor['Date'] = pd.to_datetime(factor['Date'], format='%Y%m%d')\n",
    "\n",
    "#Filter the factor data in last 25 years only\n",
    "factor = factor[factor['Date']>='2000-01-01']\n",
    "factor.set_index('Date',inplace=True)\n",
    "\n",
    "#Convert percentage values to decimals (e.g., 0.21% → 0.0021)\n",
    "factor = factor/100\n",
    "\n",
    "factor.head(10)"
   ]
  },
  {
   "cell_type": "markdown",
   "id": "5c51465d",
   "metadata": {},
   "source": [
    "The `price` data file is from Wuecampus, including  historical data on the closing log prices of a hedge fund spanning the past 25 years."
   ]
  },
  {
   "cell_type": "code",
   "execution_count": 7,
   "id": "40f3b8d1-4a31-45a8-9fd6-b211cd53c82d",
   "metadata": {},
   "outputs": [
    {
     "data": {
      "text/html": [
       "<div>\n",
       "<style scoped>\n",
       "    .dataframe tbody tr th:only-of-type {\n",
       "        vertical-align: middle;\n",
       "    }\n",
       "\n",
       "    .dataframe tbody tr th {\n",
       "        vertical-align: top;\n",
       "    }\n",
       "\n",
       "    .dataframe thead th {\n",
       "        text-align: right;\n",
       "    }\n",
       "</style>\n",
       "<table border=\"1\" class=\"dataframe\">\n",
       "  <thead>\n",
       "    <tr style=\"text-align: right;\">\n",
       "      <th></th>\n",
       "      <th>Log_Price_HF</th>\n",
       "    </tr>\n",
       "    <tr>\n",
       "      <th>Date</th>\n",
       "      <th></th>\n",
       "    </tr>\n",
       "  </thead>\n",
       "  <tbody>\n",
       "    <tr>\n",
       "      <th>2000-01-03</th>\n",
       "      <td>8.843644</td>\n",
       "    </tr>\n",
       "    <tr>\n",
       "      <th>2000-01-04</th>\n",
       "      <td>8.804754</td>\n",
       "    </tr>\n",
       "    <tr>\n",
       "      <th>2000-01-05</th>\n",
       "      <td>8.785065</td>\n",
       "    </tr>\n",
       "    <tr>\n",
       "      <th>2000-01-06</th>\n",
       "      <td>8.771407</td>\n",
       "    </tr>\n",
       "    <tr>\n",
       "      <th>2000-01-07</th>\n",
       "      <td>8.780288</td>\n",
       "    </tr>\n",
       "    <tr>\n",
       "      <th>2000-01-10</th>\n",
       "      <td>8.795992</td>\n",
       "    </tr>\n",
       "    <tr>\n",
       "      <th>2000-01-11</th>\n",
       "      <td>8.782467</td>\n",
       "    </tr>\n",
       "    <tr>\n",
       "      <th>2000-01-12</th>\n",
       "      <td>8.784597</td>\n",
       "    </tr>\n",
       "    <tr>\n",
       "      <th>2000-01-13</th>\n",
       "      <td>8.784386</td>\n",
       "    </tr>\n",
       "    <tr>\n",
       "      <th>2000-01-14</th>\n",
       "      <td>8.803601</td>\n",
       "    </tr>\n",
       "  </tbody>\n",
       "</table>\n",
       "</div>"
      ],
      "text/plain": [
       "            Log_Price_HF\n",
       "Date                    \n",
       "2000-01-03      8.843644\n",
       "2000-01-04      8.804754\n",
       "2000-01-05      8.785065\n",
       "2000-01-06      8.771407\n",
       "2000-01-07      8.780288\n",
       "2000-01-10      8.795992\n",
       "2000-01-11      8.782467\n",
       "2000-01-12      8.784597\n",
       "2000-01-13      8.784386\n",
       "2000-01-14      8.803601"
      ]
     },
     "execution_count": 7,
     "metadata": {},
     "output_type": "execute_result"
    }
   ],
   "source": [
    "price = pd.read_csv('Nguyen_Hanh Nguyen.csv',index_col=0)\n",
    "price.set_index('Date',inplace=True)\n",
    "price.index = pd.to_datetime(price.index)\n",
    "price.head(10)"
   ]
  },
  {
   "cell_type": "markdown",
   "id": "92174a6c",
   "metadata": {},
   "source": [
    "The `ret` data frame includes daily return of the hedge fund  $r_t = logprice_t - logprice_{t-1}$"
   ]
  },
  {
   "cell_type": "code",
   "execution_count": 9,
   "id": "7269ac74-1b25-4b7a-9943-61e3e0cd966e",
   "metadata": {},
   "outputs": [
    {
     "data": {
      "text/html": [
       "<div>\n",
       "<style scoped>\n",
       "    .dataframe tbody tr th:only-of-type {\n",
       "        vertical-align: middle;\n",
       "    }\n",
       "\n",
       "    .dataframe tbody tr th {\n",
       "        vertical-align: top;\n",
       "    }\n",
       "\n",
       "    .dataframe thead th {\n",
       "        text-align: right;\n",
       "    }\n",
       "</style>\n",
       "<table border=\"1\" class=\"dataframe\">\n",
       "  <thead>\n",
       "    <tr style=\"text-align: right;\">\n",
       "      <th></th>\n",
       "      <th>Return_HF</th>\n",
       "    </tr>\n",
       "    <tr>\n",
       "      <th>Date</th>\n",
       "      <th></th>\n",
       "    </tr>\n",
       "  </thead>\n",
       "  <tbody>\n",
       "    <tr>\n",
       "      <th>2000-01-03</th>\n",
       "      <td>NaN</td>\n",
       "    </tr>\n",
       "    <tr>\n",
       "      <th>2000-01-04</th>\n",
       "      <td>-0.038890</td>\n",
       "    </tr>\n",
       "    <tr>\n",
       "      <th>2000-01-05</th>\n",
       "      <td>-0.019689</td>\n",
       "    </tr>\n",
       "    <tr>\n",
       "      <th>2000-01-06</th>\n",
       "      <td>-0.013658</td>\n",
       "    </tr>\n",
       "    <tr>\n",
       "      <th>2000-01-07</th>\n",
       "      <td>0.008881</td>\n",
       "    </tr>\n",
       "    <tr>\n",
       "      <th>2000-01-10</th>\n",
       "      <td>0.015704</td>\n",
       "    </tr>\n",
       "    <tr>\n",
       "      <th>2000-01-11</th>\n",
       "      <td>-0.013525</td>\n",
       "    </tr>\n",
       "    <tr>\n",
       "      <th>2000-01-12</th>\n",
       "      <td>0.002130</td>\n",
       "    </tr>\n",
       "    <tr>\n",
       "      <th>2000-01-13</th>\n",
       "      <td>-0.000211</td>\n",
       "    </tr>\n",
       "    <tr>\n",
       "      <th>2000-01-14</th>\n",
       "      <td>0.019216</td>\n",
       "    </tr>\n",
       "  </tbody>\n",
       "</table>\n",
       "</div>"
      ],
      "text/plain": [
       "            Return_HF\n",
       "Date                 \n",
       "2000-01-03        NaN\n",
       "2000-01-04  -0.038890\n",
       "2000-01-05  -0.019689\n",
       "2000-01-06  -0.013658\n",
       "2000-01-07   0.008881\n",
       "2000-01-10   0.015704\n",
       "2000-01-11  -0.013525\n",
       "2000-01-12   0.002130\n",
       "2000-01-13  -0.000211\n",
       "2000-01-14   0.019216"
      ]
     },
     "execution_count": 9,
     "metadata": {},
     "output_type": "execute_result"
    }
   ],
   "source": [
    "ret = pd.DataFrame()\n",
    "ret['Return_HF'] = price['Log_Price_HF'].diff()\n",
    "ret.index = price.index\n",
    "ret.head(10)"
   ]
  },
  {
   "cell_type": "markdown",
   "id": "764858a1",
   "metadata": {},
   "source": [
    "The `excess_return` data frame is including excess return, by subtracting `ret` to risk free rate `RF` from `factor` file"
   ]
  },
  {
   "cell_type": "code",
   "execution_count": 11,
   "id": "54b86ca8-a41a-43e6-9dc1-4eb66cf0c2ea",
   "metadata": {},
   "outputs": [
    {
     "data": {
      "text/html": [
       "<div>\n",
       "<style scoped>\n",
       "    .dataframe tbody tr th:only-of-type {\n",
       "        vertical-align: middle;\n",
       "    }\n",
       "\n",
       "    .dataframe tbody tr th {\n",
       "        vertical-align: top;\n",
       "    }\n",
       "\n",
       "    .dataframe thead th {\n",
       "        text-align: right;\n",
       "    }\n",
       "</style>\n",
       "<table border=\"1\" class=\"dataframe\">\n",
       "  <thead>\n",
       "    <tr style=\"text-align: right;\">\n",
       "      <th></th>\n",
       "      <th>Return_HF</th>\n",
       "    </tr>\n",
       "    <tr>\n",
       "      <th>Date</th>\n",
       "      <th></th>\n",
       "    </tr>\n",
       "  </thead>\n",
       "  <tbody>\n",
       "    <tr>\n",
       "      <th>2000-01-03</th>\n",
       "      <td>NaN</td>\n",
       "    </tr>\n",
       "    <tr>\n",
       "      <th>2000-01-04</th>\n",
       "      <td>-0.039090</td>\n",
       "    </tr>\n",
       "    <tr>\n",
       "      <th>2000-01-05</th>\n",
       "      <td>-0.019889</td>\n",
       "    </tr>\n",
       "    <tr>\n",
       "      <th>2000-01-06</th>\n",
       "      <td>-0.013858</td>\n",
       "    </tr>\n",
       "    <tr>\n",
       "      <th>2000-01-07</th>\n",
       "      <td>0.008681</td>\n",
       "    </tr>\n",
       "    <tr>\n",
       "      <th>2000-01-10</th>\n",
       "      <td>0.015504</td>\n",
       "    </tr>\n",
       "    <tr>\n",
       "      <th>2000-01-11</th>\n",
       "      <td>-0.013725</td>\n",
       "    </tr>\n",
       "    <tr>\n",
       "      <th>2000-01-12</th>\n",
       "      <td>0.001930</td>\n",
       "    </tr>\n",
       "    <tr>\n",
       "      <th>2000-01-13</th>\n",
       "      <td>-0.000411</td>\n",
       "    </tr>\n",
       "    <tr>\n",
       "      <th>2000-01-14</th>\n",
       "      <td>0.019016</td>\n",
       "    </tr>\n",
       "  </tbody>\n",
       "</table>\n",
       "</div>"
      ],
      "text/plain": [
       "            Return_HF\n",
       "Date                 \n",
       "2000-01-03        NaN\n",
       "2000-01-04  -0.039090\n",
       "2000-01-05  -0.019889\n",
       "2000-01-06  -0.013858\n",
       "2000-01-07   0.008681\n",
       "2000-01-10   0.015504\n",
       "2000-01-11  -0.013725\n",
       "2000-01-12   0.001930\n",
       "2000-01-13  -0.000411\n",
       "2000-01-14   0.019016"
      ]
     },
     "execution_count": 11,
     "metadata": {},
     "output_type": "execute_result"
    }
   ],
   "source": [
    "excess_return = pd.DataFrame()\n",
    "excess_return = ret.sub(factor.loc[:,\"RF\"], axis=0)\n",
    "excess_return.head(10)"
   ]
  },
  {
   "cell_type": "markdown",
   "id": "54c9a3da",
   "metadata": {},
   "source": [
    "##### 1. Factor Loadings and Annualized Alpha Calculation:"
   ]
  },
  {
   "cell_type": "code",
   "execution_count": 13,
   "id": "5e9fbb17-c1de-4ab8-9f85-4e730169a551",
   "metadata": {},
   "outputs": [],
   "source": [
    "import statsmodels.api as sm"
   ]
  },
  {
   "cell_type": "markdown",
   "id": "142331f9",
   "metadata": {},
   "source": [
    " (a) The 1-factor market model\n",
    "<center> $R_t^e = \\alpha + \\beta R_t^{M,e} + \\epsilon_t$ </center>"
   ]
  },
  {
   "cell_type": "code",
   "execution_count": 15,
   "id": "1f052324",
   "metadata": {},
   "outputs": [],
   "source": [
    "y = excess_return.loc[:,'Return_HF']\n",
    "x = factor.loc[:,'Mkt-RF']\n",
    "\n",
    "#Remove missing values NaN in y (Excess return) and match index with x (Factor)\n",
    "y = y.dropna()\n",
    "x = x.loc[y.index]\n",
    "\n",
    "one_factor_regression = sm.OLS(y, sm.add_constant(x)).fit()\n",
    "\n",
    "one_factor_alpha = round(one_factor_regression.params.loc[\"const\"] * 252 * 100, 2)"
   ]
  },
  {
   "cell_type": "markdown",
   "id": "0b723bfa-da20-4854-af9e-68573cdc281b",
   "metadata": {},
   "source": [
    " (b) The Fama-French 3-factor model with SMB and HML\n",
    "<center> $ R_t^e = \\alpha + \\beta^M R_t^{M,e} + \\beta^{SMB} R_t^{SMB} +\\beta^{HML} R_t^{HML} + \\epsilon_t $ </center>"
   ]
  },
  {
   "cell_type": "code",
   "execution_count": 17,
   "id": "9ea38a1c",
   "metadata": {},
   "outputs": [],
   "source": [
    "x = factor.loc[:,['Mkt-RF','SMB','HML']].loc[y.index]\n",
    "\n",
    "three_factor_regression = sm.OLS(y, sm.add_constant(x)).fit()\n",
    "three_factor_alpha = round(three_factor_regression.params.loc[\"const\"] * 252 * 100,2)"
   ]
  },
  {
   "cell_type": "markdown",
   "id": "5af46abc-1ae0-416c-8b14-6956e9fe7c1a",
   "metadata": {},
   "source": [
    " (c) The 5-factor model consisting of the FF 3-factor model augmented with RMW and CMA.\n",
    "\n",
    " <center> $ R_t^e = \\alpha + \\beta^M R_t^{M,e} + \\beta^{SMB} R_t^{SMB} +\\beta^{HML} R_t^{HML} + \\beta^{RMW} R_t^{RMW} + \\beta^{CMA} R_t^{CMA} + \\epsilon_t $ </center>"
   ]
  },
  {
   "cell_type": "code",
   "execution_count": 19,
   "id": "75dbe342",
   "metadata": {},
   "outputs": [],
   "source": [
    "x = factor.loc[:,['Mkt-RF','SMB','HML','RMW','CMA']].loc[y.index]\n",
    "\n",
    "five_factor_regression = sm.OLS(y, sm.add_constant(x)).fit()\n",
    "five_factor_alpha = round(five_factor_regression.params.loc[\"const\"] * 252 * 100,2)"
   ]
  },
  {
   "cell_type": "code",
   "execution_count": 20,
   "id": "9d0913eb",
   "metadata": {},
   "outputs": [],
   "source": [
    "# special package to present regression tables\n",
    "from stargazer.stargazer import Stargazer"
   ]
  },
  {
   "cell_type": "code",
   "execution_count": 21,
   "id": "e58718a7",
   "metadata": {},
   "outputs": [
    {
     "data": {
      "text/html": [
       "<table style=\"text-align:center\"><tr><td colspan=\"4\" style=\"border-bottom: 1px solid black\"></td></tr>\n",
       "<tr><td style=\"text-align:left\"></td><td colspan=\"3\"><em>Dependent variable: Return_HF</em></td></tr><tr><td style=\"text-align:left\"></td><tr><td style=\"text-align:left\"></td><td>(1)</td><td>(2)</td><td>(3)</td></tr>\n",
       "<tr><td colspan=\"4\" style=\"border-bottom: 1px solid black\"></td></tr>\n",
       "\n",
       "<tr><td style=\"text-align:left\">const</td><td>-0.000<sup>**</sup></td><td>-0.000<sup>***</sup></td><td>-0.000<sup>***</sup></td></tr>\n",
       "<tr><td style=\"text-align:left\"></td><td>(0.000)</td><td>(0.000)</td><td>(0.000)</td></tr>\n",
       "<tr><td style=\"text-align:left\">Mkt-RF</td><td>0.820<sup>***</sup></td><td>0.764<sup>***</sup></td><td>0.747<sup>***</sup></td></tr>\n",
       "<tr><td style=\"text-align:left\"></td><td>(0.010)</td><td>(0.011)</td><td>(0.012)</td></tr>\n",
       "<tr><td style=\"text-align:left\">SMB</td><td></td><td>-0.344<sup>***</sup></td><td>-0.355<sup>***</sup></td></tr>\n",
       "<tr><td style=\"text-align:left\"></td><td></td><td>(0.024)</td><td>(0.024)</td></tr>\n",
       "<tr><td style=\"text-align:left\">HML</td><td></td><td>0.373<sup>***</sup></td><td>0.416<sup>***</sup></td></tr>\n",
       "<tr><td style=\"text-align:left\"></td><td></td><td>(0.020)</td><td>(0.027)</td></tr>\n",
       "<tr><td style=\"text-align:left\">RMW</td><td></td><td></td><td>-0.032<sup></sup></td></tr>\n",
       "<tr><td style=\"text-align:left\"></td><td></td><td></td><td>(0.034)</td></tr>\n",
       "<tr><td style=\"text-align:left\">CMA</td><td></td><td></td><td>-0.100<sup>**</sup></td></tr>\n",
       "<tr><td style=\"text-align:left\"></td><td></td><td></td><td>(0.039)</td></tr>\n",
       "\n",
       "<tr><td style=\"text-align: left\">Annualized Alpha (in %)</td><td>-5.51</td><td>-6.66</td><td>-6.25</td></tr><td colspan=\"4\" style=\"border-bottom: 1px solid black\"></td></tr>\n",
       "<tr><td style=\"text-align: left\">Observations</td><td>6602</td><td>6602</td><td>6602</td></tr><tr><td style=\"text-align: left\">R<sup>2</sup></td><td>0.512</td><td>0.547</td><td>0.548</td></tr><tr><td style=\"text-align: left\">Adjusted R<sup>2</sup></td><td>0.512</td><td>0.547</td><td>0.547</td></tr><tr><td style=\"text-align: left\">Residual Std. Error</td><td>0.008 (df=6600)</td><td>0.008 (df=6598)</td><td>0.008 (df=6596)</td></tr><tr><td style=\"text-align: left\">F Statistic</td><td>6917.812<sup>***</sup> (df=1; 6600)</td><td>2658.219<sup>***</sup> (df=3; 6598)</td><td>1597.955<sup>***</sup> (df=5; 6596)</td></tr>\n",
       "<tr><td colspan=\"4\" style=\"border-bottom: 1px solid black\"></td></tr><tr><td style=\"text-align: left\">Note:</td><td colspan=\"3\" style=\"text-align: right\"><sup>*</sup>p&lt;0.1; <sup>**</sup>p&lt;0.05; <sup>***</sup>p&lt;0.01</td></tr></table>"
      ],
      "text/plain": [
       "<stargazer.stargazer.Stargazer at 0x2c2ae9b7200>"
      ]
     },
     "execution_count": 21,
     "metadata": {},
     "output_type": "execute_result"
    }
   ],
   "source": [
    "#Represent regression result\n",
    "table = Stargazer([one_factor_regression,three_factor_regression,five_factor_regression])\n",
    "table.add_line(\"Annualized Alpha (in %)\", [one_factor_alpha, three_factor_alpha,five_factor_alpha])\n",
    "table.covariate_order(['const', 'Mkt-RF','SMB','HML','RMW','CMA'])\n",
    "table"
   ]
  },
  {
   "cell_type": "markdown",
   "id": "a2510be4",
   "metadata": {},
   "source": [
    "**2. Interpretation:**  \n",
    "*Interpret the factor loadings obtained from the regressions. What insights do these loadings provide about the hedge fund’s investment style?*\n",
    "- Market beta of the HF is positive and significant, indicating strong market exposure, i.e. managers tend to be more long than short in the market.\n",
    "- The multi-factor model shows that, managers tend to prefer large stocks (SMB<0), value stocks with high book-to-market ratio (HML > 0) and preference for conservative investment strategies (CMA<0)\n",
    "- RMW is insignificant, so profitability is not a key factor for the fund.\n",
    "- Annualized alpha is negative (-5.51% to -6.66%), indicating no abnormal returns after risk adjustment.\n",
    "\n",
    "**3. Comparison:**  \n",
    "*Compare the alpha derived from the multivariate regressions to the alpha obtained from the univariate market regression. Discuss the differences in interpretation between the univariate and multivariate alphas, particularly in the context of the explanatory power*\n",
    "\n",
    "- Univariate annualized alpha amounts to -5.51% at a significance 5%.  \n",
    "- Multivariate annualized alpha amounts to -6.66% and -6.25% at a significance 1%.    \n",
    "-> Multivariate alpha is much lower since part of the performance is explained the factor exposures.\n",
    "\n",
    "- R-squared increases with more factors, indicating improved explanatory power but still moderate overall.\n",
    "\n",
    "Overall, the fund is market-sensitive, favors large-value, conservative stocks, and does not outperform risk-adjusted benchmarks."
   ]
  }
 ],
 "metadata": {
  "kernelspec": {
   "display_name": "Python [conda env:base] *",
   "language": "python",
   "name": "conda-base-py"
  },
  "language_info": {
   "codemirror_mode": {
    "name": "ipython",
    "version": 3
   },
   "file_extension": ".py",
   "mimetype": "text/x-python",
   "name": "python",
   "nbconvert_exporter": "python",
   "pygments_lexer": "ipython3",
   "version": "3.12.7"
  }
 },
 "nbformat": 4,
 "nbformat_minor": 5
}
